{
  "nbformat": 4,
  "nbformat_minor": 0,
  "metadata": {
    "colab": {
      "name": "Super-Resolution-Zoo.ipynb",
      "provenance": [],
      "toc_visible": true,
      "machine_shape": "hm",
      "authorship_tag": "ABX9TyMSdR+IIhRW9Cd6aq94o44n",
      "include_colab_link": true
    },
    "kernelspec": {
      "name": "python3",
      "display_name": "Python 3"
    }
  },
  "cells": [
    {
      "cell_type": "markdown",
      "metadata": {
        "id": "view-in-github",
        "colab_type": "text"
      },
      "source": [
        "<a href=\"https://colab.research.google.com/github/dvschultz/ai/blob/master/Super_Resolution_Zoo.ipynb\" target=\"_parent\"><img src=\"https://colab.research.google.com/assets/colab-badge.svg\" alt=\"Open In Colab\"/></a>"
      ]
    },
    {
      "cell_type": "markdown",
      "metadata": {
        "id": "B8fwj00Kx4yZ",
        "colab_type": "text"
      },
      "source": [
        "#SR Zoo\n",
        "Colab notebook of [SRZoo](https://github.com/idearibosome/srzoo)"
      ]
    },
    {
      "cell_type": "code",
      "metadata": {
        "id": "9R1jgTQS6fVH",
        "colab_type": "code",
        "colab": {
          "base_uri": "https://localhost:8080/",
          "height": 170
        },
        "outputId": "8c086903-6e06-4fd6-ad0b-10d091c1a2a4"
      },
      "source": [
        "%tensorflow_version 1.x\n",
        "!git clone https://github.com/idearibosome/srzoo\n",
        "%cd srzoo\n",
        "!mkdir {models,LR,SR}"
      ],
      "execution_count": null,
      "outputs": [
        {
          "output_type": "stream",
          "text": [
            "TensorFlow 1.x selected.\n",
            "Cloning into 'srzoo'...\n",
            "remote: Enumerating objects: 7, done.\u001b[K\n",
            "remote: Counting objects: 100% (7/7), done.\u001b[K\n",
            "remote: Compressing objects: 100% (7/7), done.\u001b[K\n",
            "remote: Total 143 (delta 1), reused 1 (delta 0), pack-reused 136\u001b[K\n",
            "Receiving objects: 100% (143/143), 54.25 KiB | 10.85 MiB/s, done.\n",
            "Resolving deltas: 100% (60/60), done.\n",
            "/content/srzoo\n"
          ],
          "name": "stdout"
        }
      ]
    },
    {
      "cell_type": "markdown",
      "metadata": {
        "id": "o3NuhdGQTJ4m",
        "colab_type": "text"
      },
      "source": [
        "### EDSR\n",
        "\n",
        "Enhanced Deep Residual Networks for Single Image Super-Resolution\n",
        "\n",
        "2017 | [Github](https://github.com/thstkdgus35/EDSR-PyTorch) | [Paper](http://openaccess.thecvf.com/content_cvpr_2017_workshops/w12/papers/Lim_Enhanced_Deep_Residual_CVPR_2017_paper.pdf)"
      ]
    },
    {
      "cell_type": "code",
      "metadata": {
        "id": "V-ASahZWUS6j",
        "colab_type": "code",
        "colab": {}
      },
      "source": [
        "!wget http://mcml.yonsei.ac.kr/files/srzoo/edsr_baseline_x2.pb -O models/edsr_baseline_x2.pb\n",
        "!wget http://mcml.yonsei.ac.kr/files/srzoo/edsr_baseline_x3.pb -O models/edsr_baseline_x3.pb\n",
        "!wget http://mcml.yonsei.ac.kr/files/srzoo/edsr_baseline_x4.pb -O models/edsr_baseline_x4.pb"
      ],
      "execution_count": null,
      "outputs": []
    },
    {
      "cell_type": "code",
      "metadata": {
        "id": "_8_Il0oa7Nm3",
        "colab_type": "code",
        "colab": {
          "base_uri": "https://localhost:8080/",
          "height": 204
        },
        "outputId": "ec6ea9b8-084d-4457-de57-3b8e32e429c9"
      },
      "source": [
        "!wget http://mcml.yonsei.ac.kr/files/srzoo/edsr_x2.pb -O models/edsr_x2.pb\n",
        "!wget http://mcml.yonsei.ac.kr/files/srzoo/edsr_x3.pb -O models/edsr_x3.pb\n",
        "!wget http://mcml.yonsei.ac.kr/files/srzoo/edsr_x4.pb -O models/edsr_x4.pb"
      ],
      "execution_count": null,
      "outputs": [
        {
          "output_type": "stream",
          "text": [
            "--2020-06-04 20:04:10--  http://mcml.yonsei.ac.kr/files/srzoo/edsr_x4.pb\n",
            "Resolving mcml.yonsei.ac.kr (mcml.yonsei.ac.kr)... 1.233.219.169\n",
            "Connecting to mcml.yonsei.ac.kr (mcml.yonsei.ac.kr)|1.233.219.169|:80... connected.\n",
            "HTTP request sent, awaiting response... 200 OK\n",
            "Length: 172532187 (165M) [application/octet-stream]\n",
            "Saving to: ‘models/edsr_x4.pb’\n",
            "\n",
            "models/edsr_x4.pb   100%[===================>] 164.54M  2.48MB/s    in 55s     \n",
            "\n",
            "2020-06-04 20:05:06 (3.00 MB/s) - ‘models/edsr_x4.pb’ saved [172532187/172532187]\n",
            "\n"
          ],
          "name": "stdout"
        }
      ]
    },
    {
      "cell_type": "code",
      "metadata": {
        "id": "Ne3QXs896qiT",
        "colab_type": "code",
        "colab": {}
      },
      "source": [
        "!python get_sr.py --config_path=configs/edsr.json --model_path=models/edsr_x4.pb --input_path=LR --output_path=SR --scale=4\n"
      ],
      "execution_count": null,
      "outputs": []
    },
    {
      "cell_type": "markdown",
      "metadata": {
        "id": "HBaEvmMlVFRY",
        "colab_type": "text"
      },
      "source": [
        "###EUSR\n",
        "\n",
        "Deep Residual Network with Enhanced Upscaling Module for Super-Resolution\n",
        "\n",
        "2018 | [Github](https://github.com/junhyukk/EUSR-Tensorflow) | [Paper](http://openaccess.thecvf.com/content_cvpr_2018_workshops/papers/w13/Kim_Deep_Residual_Network_CVPR_2018_paper.pdf)"
      ]
    },
    {
      "cell_type": "code",
      "metadata": {
        "id": "EIOi3SD57DdP",
        "colab_type": "code",
        "colab": {}
      },
      "source": [
        "!wget http://mcml.yonsei.ac.kr/files/srzoo/eusr_x2.pb -O models/eusr_x2.pb\n",
        "!wget http://mcml.yonsei.ac.kr/files/srzoo/eusr_x4.pb -O models/eusr_x4.pb\n",
        "!wget http://mcml.yonsei.ac.kr/files/srzoo/eusr_x8.pb -O models/eusr_x8.pb"
      ],
      "execution_count": null,
      "outputs": []
    },
    {
      "cell_type": "code",
      "metadata": {
        "id": "0ks-xky8WBeu",
        "colab_type": "code",
        "colab": {}
      },
      "source": [
        "!python get_sr.py --config_path=configs/eusr.json --model_path=models/eusr_x4.pb --input_path=LR --output_path=SR --scale=4\n"
      ],
      "execution_count": null,
      "outputs": []
    },
    {
      "cell_type": "markdown",
      "metadata": {
        "id": "5T1WE3AvXlFe",
        "colab_type": "text"
      },
      "source": [
        "### DBPN\n",
        "\n",
        "Deep Back-Projection Networks For Super-Resolution\n",
        "\n",
        "2018 | [Github](https://github.com/alterzero/DBPN-Pytorch) | [Webpage](https://alterzero.github.io/projects/DBPN.html) | [Paper](https://alterzero.github.io/projects/DBPN_cvpr2018_final.pdf)"
      ]
    },
    {
      "cell_type": "code",
      "metadata": {
        "id": "Gpee5bYAYJ27",
        "colab_type": "code",
        "colab": {}
      },
      "source": [
        "!wget http://mcml.yonsei.ac.kr/files/srzoo/dbpn_x2.pb -O models/dbpn_x2.pb\n",
        "!wget http://mcml.yonsei.ac.kr/files/srzoo/dbpn_x4.pb -O models/dbpn_x4.pb\n",
        "!wget http://mcml.yonsei.ac.kr/files/srzoo/dbpn_x8.pb -O models/dbpn_x8.pb"
      ],
      "execution_count": null,
      "outputs": []
    },
    {
      "cell_type": "code",
      "metadata": {
        "id": "HDvY0VdwYXO6",
        "colab_type": "code",
        "colab": {}
      },
      "source": [
        "!python get_sr.py --config_path=configs/dbpn.json --model_path=models/dbpn_x4.pb --input_path=LR --output_path=SR --scale=4\n"
      ],
      "execution_count": null,
      "outputs": []
    },
    {
      "cell_type": "markdown",
      "metadata": {
        "id": "vC3mif74ZOKr",
        "colab_type": "text"
      },
      "source": [
        "### RCAN\n",
        "\n",
        "Image Super-Resolution Using Very Deep Residual Channel Attention Networks\n",
        "\n",
        "2018 | [Github](https://github.com/yulunzhang/RCAN) | [Paper](https://arxiv.org/pdf/1807.02758.pdf)"
      ]
    },
    {
      "cell_type": "code",
      "metadata": {
        "id": "s_ivLCH1ZwwD",
        "colab_type": "code",
        "colab": {}
      },
      "source": [
        "!wget http://mcml.yonsei.ac.kr/files/srzoo/rcan_x2.pb -O models/rcan_x2.pb\n",
        "!wget http://mcml.yonsei.ac.kr/files/srzoo/rcan_x3.pb -O models/rcan_x3.pb\n",
        "!wget http://mcml.yonsei.ac.kr/files/srzoo/rcan_x4.pb -O models/rcan_x4.pb\n",
        "!wget http://mcml.yonsei.ac.kr/files/srzoo/rcan_x8.pb -O models/rcan_x8.pb"
      ],
      "execution_count": null,
      "outputs": []
    },
    {
      "cell_type": "code",
      "metadata": {
        "id": "GT9Bt2bPaYOr",
        "colab_type": "code",
        "colab": {}
      },
      "source": [
        "!python get_sr.py --config_path=configs/rcan.json --model_path=models/rcan_x4.pb --input_path=LR --output_path=SR --scale=4\n"
      ],
      "execution_count": null,
      "outputs": []
    },
    {
      "cell_type": "markdown",
      "metadata": {
        "id": "j_PnL-dsadm6",
        "colab_type": "text"
      },
      "source": [
        "### MSRN\n",
        "Multi-scale Residual Network for Image Super-Resolution\n",
        "\n",
        "2018 | [Github](https://github.com/MIVRC/MSRN-PyTorch) | [Paper](http://openaccess.thecvf.com/content_ECCV_2018/papers/Juncheng_Li_Multi-scale_Residual_Network_ECCV_2018_paper.pdf)"
      ]
    },
    {
      "cell_type": "code",
      "metadata": {
        "id": "lGGMn_XXbLCV",
        "colab_type": "code",
        "colab": {}
      },
      "source": [
        "!wget http://mcml.yonsei.ac.kr/files/srzoo/msrn_x2.pb -O models/msrn_x2.pb\n",
        "!wget http://mcml.yonsei.ac.kr/files/srzoo/msrn_x3.pb -O models/msrn_x3.pb\n",
        "!wget http://mcml.yonsei.ac.kr/files/srzoo/msrn_x4.pb -O models/msrn_x4.pb\n"
      ],
      "execution_count": null,
      "outputs": []
    },
    {
      "cell_type": "code",
      "metadata": {
        "id": "Q0XyGfEqca_M",
        "colab_type": "code",
        "colab": {}
      },
      "source": [
        "!python get_sr.py --config_path=configs/msrn.json --model_path=models/msrn_x4.pb --input_path=LR --output_path=SR --scale=4\n"
      ],
      "execution_count": null,
      "outputs": []
    },
    {
      "cell_type": "markdown",
      "metadata": {
        "id": "FaySUNqgcgtY",
        "colab_type": "text"
      },
      "source": [
        "### 4PP-EUSR\n",
        "Four-pass perceptual super-resolution with enhanced upscaling\n",
        "\n",
        "2018 | [Github](https://github.com/idearibosome/tf-perceptual-eusr) | [Paper](https://arxiv.org/pdf/1809.04789.pdf)\n",
        "\n"
      ]
    },
    {
      "cell_type": "code",
      "metadata": {
        "id": "XNZ7SLtwdX30",
        "colab_type": "code",
        "colab": {}
      },
      "source": [
        "!wget http://mcml.yonsei.ac.kr/files/srzoo/4pp_eusr_pirm_x4.pb -O models/4pp_eusr_pirm_x4.pb"
      ],
      "execution_count": null,
      "outputs": []
    },
    {
      "cell_type": "code",
      "metadata": {
        "id": "ctayLX5Xdea7",
        "colab_type": "code",
        "colab": {}
      },
      "source": [
        "!python get_sr.py --config_path=configs/4pp_eusr.json --model_path=models/4pp_eusr_pirm_x4.pb --input_path=LR --output_path=SR --scale=4\n"
      ],
      "execution_count": null,
      "outputs": []
    },
    {
      "cell_type": "markdown",
      "metadata": {
        "id": "TWwZ5SdIgVRQ",
        "colab_type": "text"
      },
      "source": [
        "### ESRGAN\n",
        "Enhanced Super-Resolution Generative Adversarial Networks\n",
        "\n",
        "2018 | [Github](https://github.com/xinntao/ESRGAN) | [Paper](http://openaccess.thecvf.com/content_ECCVW_2018/papers/11133/Wang_ESRGAN_Enhanced_Super-Resolution_Generative_Adversarial_Networks_ECCVW_2018_paper.pdf)"
      ]
    },
    {
      "cell_type": "code",
      "metadata": {
        "id": "XR6VDFcyhVtl",
        "colab_type": "code",
        "colab": {}
      },
      "source": [
        "!wget http://mcml.yonsei.ac.kr/files/srzoo/esrgan_x4.pb -O models/esrgan_x4.pb"
      ],
      "execution_count": null,
      "outputs": []
    },
    {
      "cell_type": "code",
      "metadata": {
        "id": "bWFrbAxdhhjy",
        "colab_type": "code",
        "colab": {}
      },
      "source": [
        "!python get_sr.py --config_path=configs/esrgan.json --model_path=models/esrgan_x4.pb --input_path=LR --output_path=SR --scale=4\n"
      ],
      "execution_count": null,
      "outputs": []
    },
    {
      "cell_type": "code",
      "metadata": {
        "id": "ZK8Vsuf6i8he",
        "colab_type": "code",
        "colab": {}
      },
      "source": [
        "!wget http://mcml.yonsei.ac.kr/files/srzoo/rrdb_x4.pb -O models/rrdb_x4.pb"
      ],
      "execution_count": null,
      "outputs": []
    },
    {
      "cell_type": "code",
      "metadata": {
        "id": "WwzDvq4gjEqd",
        "colab_type": "code",
        "colab": {}
      },
      "source": [
        "!python get_sr.py --config_path=configs/rrdb.json --model_path=models/rrdb_x4.pb --input_path=LR --output_path=SR --scale=4\n"
      ],
      "execution_count": null,
      "outputs": []
    },
    {
      "cell_type": "markdown",
      "metadata": {
        "id": "NgqB5dIKjfRZ",
        "colab_type": "text"
      },
      "source": [
        "### CARN\n",
        "Fast, Accurate, and Lightweight Super-Resolution with Cascading Residual Network\n",
        "\n",
        "2018 | [Github](https://github.com/nmhkahn/CARN-pytorch) | [Paper](https://arxiv.org/pdf/1803.08664.pdf)"
      ]
    },
    {
      "cell_type": "code",
      "metadata": {
        "id": "8X-wSWLBj_JU",
        "colab_type": "code",
        "colab": {}
      },
      "source": [
        "!wget http://mcml.yonsei.ac.kr/files/srzoo/carn_x2.pb -O models/carn_x2.pb\n",
        "!wget http://mcml.yonsei.ac.kr/files/srzoo/carn_x3.pb -O models/carn_x3.pb\n",
        "!wget http://mcml.yonsei.ac.kr/files/srzoo/carn_x4.pb -O models/carn_x4.pb"
      ],
      "execution_count": null,
      "outputs": []
    },
    {
      "cell_type": "code",
      "metadata": {
        "id": "dkdrV8JZkpv4",
        "colab_type": "code",
        "colab": {}
      },
      "source": [
        "!python get_sr.py --config_path=configs/carn.json --model_path=models/carn_x4.pb --input_path=LR --output_path=SR --scale=4\n",
        " "
      ],
      "execution_count": null,
      "outputs": []
    },
    {
      "cell_type": "markdown",
      "metadata": {
        "id": "N5P-drm2k8B_",
        "colab_type": "text"
      },
      "source": [
        "### FRSR\n",
        "Natural and Realistic Single Image Super-Resolution with Explicit Natural Manifold Discrimination\n",
        "\n",
        "2018 | [Github](https://github.com/nmhkahn/CARN-pytorch) | [Paper](https://arxiv.org/pdf/1803.08664.pdf)"
      ]
    },
    {
      "cell_type": "code",
      "metadata": {
        "id": "VKfy1sejlWHz",
        "colab_type": "code",
        "colab": {}
      },
      "source": [
        "!wget http://mcml.yonsei.ac.kr/files/srzoo/frsr_x2.pb -O models/frsr_x2.pb\n",
        "!wget http://mcml.yonsei.ac.kr/files/srzoo/frsr_x3.pb -O models/frsr_x3.pb\n",
        "!wget http://mcml.yonsei.ac.kr/files/srzoo/frsr_x4.pb -O models/frsr_x4.pb\n",
        "!wget http://mcml.yonsei.ac.kr/files/srzoo/natsr_x4.pb -O models/natsr_x4.pb"
      ],
      "execution_count": null,
      "outputs": []
    },
    {
      "cell_type": "code",
      "metadata": {
        "id": "uLoKaneqlnMT",
        "colab_type": "code",
        "colab": {}
      },
      "source": [
        "!python get_sr.py --config_path=configs/natsr.json --model_path=models/frsr_x4.pb --input_path=LR --output_path=SR --scale=4\n",
        " "
      ],
      "execution_count": null,
      "outputs": []
    }
  ]
}