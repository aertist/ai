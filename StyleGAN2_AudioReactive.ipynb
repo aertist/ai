{
  "nbformat": 4,
  "nbformat_minor": 0,
  "metadata": {
    "colab": {
      "name": "StyleGAN2-AudioReactive",
      "provenance": [],
      "toc_visible": true,
      "machine_shape": "hm",
      "authorship_tag": "ABX9TyN/OrJpgcEj2EeYa55AQzxC",
      "include_colab_link": true
    },
    "kernelspec": {
      "name": "python3",
      "display_name": "Python 3"
    },
    "accelerator": "GPU"
  },
  "cells": [
    {
      "cell_type": "markdown",
      "metadata": {
        "id": "view-in-github",
        "colab_type": "text"
      },
      "source": [
        "<a href=\"https://colab.research.google.com/github/dvschultz/ai/blob/master/StyleGAN2_AudioReactive.ipynb\" target=\"_parent\"><img src=\"https://colab.research.google.com/assets/colab-badge.svg\" alt=\"Open In Colab\"/></a>"
      ]
    },
    {
      "cell_type": "markdown",
      "metadata": {
        "id": "lC45WUtANxZ8",
        "colab_type": "text"
      },
      "source": [
        "#StyleGAN2 Reactive Audio\n",
        "\n",
        "By Derrick Schultz for the StyleGAN2 Deep Dive class.\n",
        "\n",
        "This notebook shows one basic example of how to alter your StyleGAN2 vectors with audio. There are lots of different techniques to explore in this, but this is one simple way.\n",
        "\n",
        "Big thanks to Robert Luxemburg who provided the basis for a lot of this code with [this gist](https://gist.github.com/rolux/48f1da6cf2bc6ca5833dbacbf852b348)."
      ]
    },
    {
      "cell_type": "markdown",
      "metadata": {
        "id": "m788lAb7OtJt",
        "colab_type": "text"
      },
      "source": [
        "##Installation\n",
        "\n",
        "First let’s install the repos and dependencies needed."
      ]
    },
    {
      "cell_type": "code",
      "metadata": {
        "id": "5n6wTwbFOofN",
        "colab_type": "code",
        "outputId": "02c32741-c67d-4239-ddbf-6894295a3ea1",
        "colab": {
          "base_uri": "https://localhost:8080/",
          "height": 343
        }
      },
      "source": [
        "%tensorflow_version 1.x\n",
        "\n",
        "# Derrick's repo (even if you trained with skyflynil this will work!)\n",
        "!git clone https://github.com/dvschultz/stylegan2.git #use this fork to get interpolation functions\n",
        "!pip install opensimplex # needed for noise interpolation\n",
        "%cd stylegan2"
      ],
      "execution_count": 1,
      "outputs": [
        {
          "output_type": "stream",
          "text": [
            "TensorFlow 1.x selected.\n",
            "Cloning into 'stylegan2'...\n",
            "remote: Enumerating objects: 36, done.\u001b[K\n",
            "remote: Counting objects: 100% (36/36), done.\u001b[K\n",
            "remote: Compressing objects: 100% (36/36), done.\u001b[K\n",
            "remote: Total 417 (delta 21), reused 0 (delta 0), pack-reused 381\u001b[K\n",
            "Receiving objects: 100% (417/417), 15.31 MiB | 31.87 MiB/s, done.\n",
            "Resolving deltas: 100% (239/239), done.\n",
            "Collecting opensimplex\n",
            "  Downloading https://files.pythonhosted.org/packages/60/b4/ca7d6b64166341a951a980628d1cf471947ac00b1eabfbc2008edb4cae32/opensimplex-0.3.tar.gz\n",
            "Building wheels for collected packages: opensimplex\n",
            "  Building wheel for opensimplex (setup.py) ... \u001b[?25l\u001b[?25hdone\n",
            "  Created wheel for opensimplex: filename=opensimplex-0.3-cp36-none-any.whl size=14315 sha256=58b8a56032630547099f75aa5c6314a0c89aa61371a326b1a3aa98b58f39e5c8\n",
            "  Stored in directory: /root/.cache/pip/wheels/d9/91/27/23b6b8e6237b2b274e128a53a2979644d2978a8968cfbae542\n",
            "Successfully built opensimplex\n",
            "Installing collected packages: opensimplex\n",
            "Successfully installed opensimplex-0.3\n",
            "/content/stylegan2\n"
          ],
          "name": "stdout"
        }
      ]
    },
    {
      "cell_type": "code",
      "metadata": {
        "id": "RjLMuFGqPCez",
        "colab_type": "code",
        "outputId": "836f4339-0889-409b-9bba-ecb159e7d8db",
        "colab": {
          "base_uri": "https://localhost:8080/",
          "height": 85
        }
      },
      "source": [
        "!gdown --id 1UlDmJVLLnBD9SnLSMXeiZRO6g-OMQCA_ -O /content/ffhq.pkl"
      ],
      "execution_count": 2,
      "outputs": [
        {
          "output_type": "stream",
          "text": [
            "Downloading...\n",
            "From: https://drive.google.com/uc?id=1UlDmJVLLnBD9SnLSMXeiZRO6g-OMQCA_\n",
            "To: /content/ffhq.pkl\n",
            "382MB [00:01, 194MB/s]\n"
          ],
          "name": "stdout"
        }
      ]
    },
    {
      "cell_type": "markdown",
      "metadata": {
        "id": "4DWRv9BWTr4A",
        "colab_type": "text"
      },
      "source": [
        "## Upload an audio file\n",
        "\n",
        "I recommend uploading something simple to start with (think a single instrument or track with silence in it). The file should be in .mp3 or .wav format."
      ]
    },
    {
      "cell_type": "code",
      "metadata": {
        "id": "DPIf-xU-TxdN",
        "colab_type": "code",
        "outputId": "9043f415-b983-496e-865d-b94f4378a6e6",
        "colab": {
          "resources": {
            "http://localhost:8080/nbextensions/google.colab/files.js": {
              "data": "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",
              "ok": true,
              "headers": [
                [
                  "content-type",
                  "application/javascript"
                ]
              ],
              "status": 200,
              "status_text": ""
            }
          },
          "base_uri": "https://localhost:8080/",
          "height": 71
        }
      },
      "source": [
        "from google.colab import files\n",
        "\n",
        "uploaded = files.upload()\n",
        "\n",
        "# for fn in uploaded.keys():\n",
        "#   print('User uploaded file \"{name}\" with length {length} bytes'.format(\n",
        "#       name=fn, length=len(uploaded[fn])))"
      ],
      "execution_count": 4,
      "outputs": [
        {
          "output_type": "display_data",
          "data": {
            "text/html": [
              "\n",
              "     <input type=\"file\" id=\"files-db5265ec-6e13-421c-8eb0-2134039072e3\" name=\"files[]\" multiple disabled />\n",
              "     <output id=\"result-db5265ec-6e13-421c-8eb0-2134039072e3\">\n",
              "      Upload widget is only available when the cell has been executed in the\n",
              "      current browser session. Please rerun this cell to enable.\n",
              "      </output>\n",
              "      <script src=\"/nbextensions/google.colab/files.js\"></script> "
            ],
            "text/plain": [
              "<IPython.core.display.HTML object>"
            ]
          },
          "metadata": {
            "tags": []
          }
        },
        {
          "output_type": "stream",
          "text": [
            "Saving pleasureisallmine_01-stereo.wav to pleasureisallmine_01-stereo.wav\n"
          ],
          "name": "stdout"
        }
      ]
    },
    {
      "cell_type": "markdown",
      "metadata": {
        "id": "1JXB3HnLjP-j",
        "colab_type": "text"
      },
      "source": [
        "##Process audio\n",
        "The next step process our audio files. Edit the first line of the next cell to point to your audio file. The run the cell after that to process the audio and generate a graph of the volume data."
      ]
    },
    {
      "cell_type": "code",
      "metadata": {
        "id": "i8TWpZNjTwWa",
        "colab_type": "code",
        "colab": {}
      },
      "source": [
        "wav_filename = '/content/stylegan2/pleasureisallmine_01-stereo.wav'\n",
        "fps = 60\n"
      ],
      "execution_count": 0,
      "outputs": []
    },
    {
      "cell_type": "code",
      "metadata": {
        "id": "tMKDAPieT7XE",
        "colab_type": "code",
        "outputId": "6a4dde72-00f8-41d1-b379-41aae28303c6",
        "colab": {
          "base_uri": "https://localhost:8080/",
          "height": 227
        }
      },
      "source": [
        "import os\n",
        "import numpy as np\n",
        "from scipy.interpolate import interp1d\n",
        "from scipy.io import wavfile\n",
        "import matplotlib.pyplot as plt\n",
        "import PIL.Image\n",
        "import moviepy.editor\n",
        "\n",
        "import dnnlib\n",
        "import dnnlib.tflib as tflib\n",
        "import pretrained_networks\n",
        "\n",
        "audio = {}\n",
        "\n",
        "if not os.path.exists(wav_filename):\n",
        "    audio_clip = moviepy.editor.AudioFileClip(wav_filename)\n",
        "    audio_clip.write_audiofile(wav_filename, fps=44100, nbytes=2, codec='pcm_s16le')\n",
        "track_name = os.path.basename(wav_filename)[:-4]\n",
        "rate, signal = wavfile.read(wav_filename)\n",
        "signal = np.mean(signal, axis=1) # to mono\n",
        "signal = np.abs(signal)\n",
        "# seed = signal.shape[0]\n",
        "duration = signal.shape[0] / rate\n",
        "frames = int(np.ceil(duration * fps))\n",
        "samples_per_frame = signal.shape[0] / frames\n",
        "audio[track_name] = np.zeros(frames, dtype=signal.dtype)\n",
        "for frame in range(frames):\n",
        "    start = int(round(frame * samples_per_frame))\n",
        "    stop = int(round((frame + 1) * samples_per_frame))\n",
        "    audio[track_name][frame] = np.mean(signal[start:stop], axis=0)\n",
        "audio[track_name] /= max(audio[track_name])\n",
        "\n",
        "for track in sorted(audio.keys()):\n",
        "    plt.figure(figsize=(8, 3))\n",
        "    plt.title(track)\n",
        "    plt.plot(audio[track])\n",
        "    plt.savefig(f'../{track}.png')"
      ],
      "execution_count": 28,
      "outputs": [
        {
          "output_type": "display_data",
          "data": {
            "image/png": "[encoded data removed]",
            "text/plain": [
              "<Figure size 576x216 with 1 Axes>"
            ]
          },
          "metadata": {
            "tags": [],
            "needs_background": "light"
          }
        }
      ]
    },
    {
      "cell_type": "markdown",
      "metadata": {
        "id": "ONTlyw6ZUNQl",
        "colab_type": "text"
      },
      "source": [
        "Run the next cell to define some functions we’ll need to use to generate our inference images."
      ]
    },
    {
      "cell_type": "code",
      "metadata": {
        "id": "KyCHTNpzPuWL",
        "colab_type": "code",
        "colab": {}
      },
      "source": [
        "import random\n",
        "def generate_zs_from_seeds(seeds,Gs):\n",
        "    zs = []\n",
        "    for seed_idx, seed in enumerate(seeds):\n",
        "        rnd = np.random.RandomState(seed)\n",
        "        z = rnd.randn(1, *Gs.input_shape[1:]) # [minibatch, component]\n",
        "        zs.append(z)\n",
        "    return zs\n",
        "\n",
        "def convertZtoW(latent, truncation_psi=0.7, truncation_cutoff=9):\n",
        "  dlatent = Gs.components.mapping.run(latent, None) # [seed, layer, component]\n",
        "  dlatent_avg = Gs.get_var('dlatent_avg') # [component]\n",
        "  for i in range(truncation_cutoff):\n",
        "    dlatent[0][i] = (dlatent[0][i]-dlatent_avg)*truncation_psi + dlatent_avg\n",
        "    \n",
        "  return dlatent\n",
        "\n",
        "def generate_images_in_w_space(dlatents, truncation_psi,folder='random'):\n",
        "    Gs_kwargs = dnnlib.EasyDict()\n",
        "    Gs_kwargs.output_transform = dict(func=tflib.convert_images_to_uint8, nchw_to_nhwc=True)\n",
        "    Gs_kwargs.randomize_noise = False\n",
        "    Gs_kwargs.truncation_psi = truncation_psi\n",
        "    dlatent_avg = Gs.get_var('dlatent_avg') # [component]\n",
        "\n",
        "    if folder == 'random':\n",
        "      temp_dir = 'frames%06d'%int(1000000*random.random())\n",
        "    else:\n",
        "      temp_dir = folder\n",
        "    os.system('mkdir %s'%temp_dir)\n",
        "\n",
        "    for row, dlatent in enumerate(dlatents):\n",
        "        print('Generating image for step %d/%d ...' % (row, len(dlatents)))\n",
        "        #row_dlatents = (dlatent[np.newaxis] - dlatent_avg) * np.reshape(truncation_psi, [-1, 1, 1]) + dlatent_avg\n",
        "        dl = (dlatent-dlatent_avg)*truncation_psi   + dlatent_avg\n",
        "        row_images = Gs.components.synthesis.run(dlatent,  **Gs_kwargs)\n",
        "        PIL.Image.fromarray(row_images[0], 'RGB').save('%s/frame%05d.png' % (temp_dir, row))"
      ],
      "execution_count": 0,
      "outputs": []
    },
    {
      "cell_type": "markdown",
      "metadata": {
        "id": "kByt3G4yUp02",
        "colab_type": "text"
      },
      "source": [
        "## Generate Images\n",
        "\n",
        "### Use Volume to interpolate between two seeds\n",
        "The next cell will take two seed values and do a linear interpolation of them using the volume from your audio. When the audio is silent, it will be the first seed you list. When it is at its loudest it will be the second. Everything in between will be an interpolated value."
      ]
    },
    {
      "cell_type": "code",
      "metadata": {
        "id": "VSPddCx9iVSR",
        "colab_type": "code",
        "colab": {}
      },
      "source": [
        "network_pkl = '/content/ffhq.pkl'\n",
        "seeds=[75,100]\n",
        "truncation_value = 0.5\n",
        "\n",
        "#you probably won't need to edit anything below this\n",
        "_G, _D, Gs = pretrained_networks.load_networks(network_pkl)\n",
        "\n",
        "Gs_kwargs = dnnlib.EasyDict()\n",
        "Gs_kwargs.output_transform = dict(func=tflib.convert_images_to_uint8, nchw_to_nhwc=True)\n",
        "Gs_kwargs.randomize_noise = False\n",
        "Gs_syn_kwargs = dnnlib.EasyDict()\n",
        "Gs_syn_kwargs.output_transform = dict(func=tflib.convert_images_to_uint8, nchw_to_nhwc=True)\n",
        "Gs_syn_kwargs.randomize_noise = False\n",
        "Gs_syn_kwargs.minibatch_size = 4\n",
        "noise_vars = [var for name, var in Gs.components.synthesis.vars.items() if name.startswith('noise')]\n",
        "w_avg = Gs.get_var('dlatent_avg')\n",
        "\n",
        "def get_ws(n, frames, seed):\n",
        "    filename = f'../ws_{n}_{frames}_{seed}.npy'\n",
        "    if not os.path.exists(filename):\n",
        "        src_ws = np.random.RandomState(seed).randn(n, 512)\n",
        "        ws = np.empty((frames, 512))\n",
        "        for i in range(512):\n",
        "            x = np.linspace(0, 3*frames, 3*len(src_ws), endpoint=False)\n",
        "            y = np.tile(src_ws[:, i], 3)\n",
        "            x_ = np.linspace(0, 3*frames, 3*frames, endpoint=False)\n",
        "            y_ = interp1d(x, y, kind='quadratic', fill_value='extrapolate')(x_)\n",
        "            ws[:, i] = y_[frames:2*frames]\n",
        "        np.save(filename, ws)\n",
        "    else:\n",
        "        ws = np.load(filename)\n",
        "    return ws\n",
        "\n",
        "def lerp(v0, v1, t):\n",
        "    return v0*(1.0-t)+v1*t\n",
        "\n",
        "\n",
        "ends = generate_zs_from_seeds(seeds,Gs)\n",
        "ends_w = []\n",
        "\n",
        "for e in range(len(ends)):\n",
        "  ends_w.append(convertZtoW(ends[e],0.5))\n",
        "\n",
        "vectors = []\n",
        "for f in range(frames):\n",
        "  vectors.append(lerp(ends_w[0],ends_w[1],audio[track_name][f]))\n",
        "\n",
        "generate_images_in_w_space(vectors,truncation_value)\n"
      ],
      "execution_count": 0,
      "outputs": []
    },
    {
      "cell_type": "markdown",
      "metadata": {
        "id": "tOkh2DZpV-9W",
        "colab_type": "text"
      },
      "source": [
        "### Combine the frames into a video and add the audio track back to it\n",
        "\n",
        "There’s probably a cleaner way to do this all in moviepy but I’m being lazy."
      ]
    },
    {
      "cell_type": "code",
      "metadata": {
        "id": "dPClSNx_Atn-",
        "colab_type": "code",
        "colab": {}
      },
      "source": [
        "!ffmpeg -r 60 -i /content/stylegan2/frames207518/frame%05d.png -vcodec libx264 -pix_fmt yuv420p /content/sound-react-volume.mp4"
      ],
      "execution_count": 0,
      "outputs": []
    },
    {
      "cell_type": "code",
      "metadata": {
        "id": "R7TUwqrTi4y-",
        "colab_type": "code",
        "outputId": "ddba0ddb-b154-4fbc-97de-3f282b67d987",
        "colab": {
          "base_uri": "https://localhost:8080/",
          "height": 170
        }
      },
      "source": [
        "mp4_filename = '../volume-lerp-test.mp4'\n",
        "# video_clip = moviepy.editor.VideoClip(render_frame, duration=duration)\n",
        "video_clip = moviepy.editor.VideoFileClip('/content/sound-react-volume.mp4')\n",
        "audio_clip_i = moviepy.editor.AudioFileClip('/content/stylegan2/pleasureisallmine_01-stereo.wav')\n",
        "video_clip = video_clip.set_audio(audio_clip_i)\n",
        "video_clip.write_videofile(mp4_filename, fps=fps, codec='libx264', audio_codec='aac', bitrate='8M')"
      ],
      "execution_count": 0,
      "outputs": [
        {
          "output_type": "stream",
          "text": [
            "[MoviePy] >>>> Building video ../volume-lerp-test.mp4\n",
            "[MoviePy] Writing audio in volume-lerp-testTEMP_MPY_wvf_snd.mp4\n"
          ],
          "name": "stdout"
        },
        {
          "output_type": "stream",
          "text": [
            "100%|██████████| 128/128 [00:00<00:00, 709.41it/s]"
          ],
          "name": "stderr"
        },
        {
          "output_type": "stream",
          "text": [
            "[MoviePy] Done.\n",
            "[MoviePy] Writing video ../volume-lerp-test.mp4\n"
          ],
          "name": "stdout"
        },
        {
          "output_type": "stream",
          "text": [
            "\n",
            "100%|██████████| 347/347 [00:12<00:00, 27.43it/s]\n"
          ],
          "name": "stderr"
        },
        {
          "output_type": "stream",
          "text": [
            "[MoviePy] Done.\n",
            "[MoviePy] >>>> Video ready: ../volume-lerp-test.mp4 \n",
            "\n"
          ],
          "name": "stdout"
        }
      ]
    },
    {
      "cell_type": "markdown",
      "metadata": {
        "id": "ibDI8hGWWPD0",
        "colab_type": "text"
      },
      "source": [
        "### Use Volume to control truncation\n",
        "In this example, we’ll use almost the same technique but use volume to change the truncation value. \n",
        "\n",
        "It’s helpful that both interpolation and truncation are essentially 0.0 to 1.0. This matches the volume signal’s output, but what if we wanted to alter it?"
      ]
    },
    {
      "cell_type": "code",
      "metadata": {
        "id": "ifbLsbOcXsgy",
        "colab_type": "code",
        "colab": {}
      },
      "source": [
        "seeds=[10]\n",
        "\n",
        "seed_z = generate_zs_from_seeds(seeds,Gs)\n",
        "\n",
        "Gs_kwargs = dnnlib.EasyDict()\n",
        "Gs_kwargs.output_transform = dict(func=tflib.convert_images_to_uint8, nchw_to_nhwc=True)\n",
        "Gs_kwargs.randomize_noise = False\n",
        "\n",
        "rnd = np.random.RandomState(seeds[0])\n",
        "\n",
        "temp_dir = '%s-trunc_frames%06d'%(track_name,int(1000000*random.random()))\n",
        "os.system('mkdir %s'%temp_dir)\n",
        "\n",
        "for f in range(frames):\n",
        "  print('Rendering frame %d/%d ...' % (f,frames))\n",
        "  Gs_kwargs.truncation_psi = audio[track_name][f]\n",
        "  tflib.set_vars({var: rnd.randn(*var.shape.as_list()) for var in noise_vars}) # [height, width]\n",
        "  images = Gs.run(seed_z[0], None, **Gs_kwargs) # [minibatch, height, width, channel]\n",
        "  PIL.Image.fromarray(images[0], 'RGB').save('%s/frame%05d.png' % (temp_dir,f))"
      ],
      "execution_count": 0,
      "outputs": []
    },
    {
      "cell_type": "code",
      "metadata": {
        "id": "gw3negi0e7ll",
        "colab_type": "code",
        "colab": {}
      },
      "source": [
        "!ffmpeg -r 60 -i /content/stylegan2/AhCmonNowBaby-trunc_frames374288/frame%05d.png -vcodec libx264 -pix_fmt yuv420p /content/sound-truncation-volume.mp4"
      ],
      "execution_count": 0,
      "outputs": []
    },
    {
      "cell_type": "code",
      "metadata": {
        "id": "g1AC2mF1bwKP",
        "colab_type": "code",
        "outputId": "74ce416a-a387-41e6-f0f7-975779e82ed1",
        "colab": {
          "base_uri": "https://localhost:8080/",
          "height": 170
        }
      },
      "source": [
        "mp4_filename = '../volume-trunc-test-v2.mp4'\n",
        "# video_clip = moviepy.editor.VideoClip(render_frame, duration=duration)\n",
        "video_clip = moviepy.editor.VideoFileClip('/content/sound-truncation-volume.mp4')\n",
        "audio_clip_i = moviepy.editor.AudioFileClip('/content/stylegan2/AhCmonNowBaby.wav')\n",
        "video_clip = video_clip.set_audio(audio_clip_i)\n",
        "video_clip.write_videofile(mp4_filename, fps=fps, codec='libx264', audio_codec='aac', bitrate='8M')"
      ],
      "execution_count": 0,
      "outputs": [
        {
          "output_type": "stream",
          "text": [
            "[MoviePy] >>>> Building video ../volume-trunc-test-v2.mp4\n",
            "[MoviePy] Writing audio in volume-trunc-test-v2TEMP_MPY_wvf_snd.mp4\n"
          ],
          "name": "stdout"
        },
        {
          "output_type": "stream",
          "text": [
            "100%|██████████| 28/28 [00:00<00:00, 2786.78it/s]"
          ],
          "name": "stderr"
        },
        {
          "output_type": "stream",
          "text": [
            "[MoviePy] Done.\n",
            "[MoviePy] Writing video ../volume-trunc-test-v2.mp4\n"
          ],
          "name": "stdout"
        },
        {
          "output_type": "stream",
          "text": [
            "\n",
            "100%|██████████| 77/77 [00:01<00:00, 39.76it/s]\n"
          ],
          "name": "stderr"
        },
        {
          "output_type": "stream",
          "text": [
            "[MoviePy] Done.\n",
            "[MoviePy] >>>> Video ready: ../volume-trunc-test-v2.mp4 \n",
            "\n"
          ],
          "name": "stdout"
        }
      ]
    },
    {
      "cell_type": "code",
      "metadata": {
        "id": "nR6VU8QJb4cB",
        "colab_type": "code",
        "colab": {}
      },
      "source": [
        "seeds=[10]\n",
        "\n",
        "seed_z = generate_zs_from_seeds(seeds,Gs)\n",
        "\n",
        "Gs_kwargs = dnnlib.EasyDict()\n",
        "Gs_kwargs.output_transform = dict(func=tflib.convert_images_to_uint8, nchw_to_nhwc=True)\n",
        "Gs_kwargs.randomize_noise = False\n",
        "\n",
        "rnd = np.random.RandomState(seeds[0])\n",
        "temp_dir = '%s-trunc_frames%06d'%(track_name,int(1000000*random.random()))\n",
        "os.system('mkdir %s'%temp_dir)\n",
        "\n",
        "for f in range(frames):\n",
        "  print('Rendering frame %d/%d ...' % (f,frames))\n",
        "\n",
        "  #edit the next line to alter the volume signal\n",
        "  # new_truncation_value = audio[track_name][f]*2 #multiply by 2 (0.0 to 2.0 for volume signal/truncation value now)\n",
        "  new_truncation_value = (audio[track_name][f]-0.5)*2 #(-1.0 to 1.0 for volume signal/truncation value now)\n",
        "\n",
        "  Gs_kwargs.truncation_psi = new_truncation_value\n",
        "  tflib.set_vars({var: rnd.randn(*var.shape.as_list()) for var in noise_vars}) # [height, width]\n",
        "  images = Gs.run(seed_z[0], None, **Gs_kwargs) # [minibatch, height, width, channel]\n",
        "  PIL.Image.fromarray(images[0], 'RGB').save('%s/frame%05d.png' % (temp_dir,f))"
      ],
      "execution_count": 0,
      "outputs": []
    },
    {
      "cell_type": "code",
      "metadata": {
        "id": "SRdc-crzdkDm",
        "colab_type": "code",
        "colab": {}
      },
      "source": [
        "!ffmpeg -r 60 -i /content/stylegan2/pleasureisallmine_01-stereo-trunc_frames623374/frame%05d.png -vcodec libx264 -pix_fmt yuv420p /content/sound-truncation-volume.mp4"
      ],
      "execution_count": 0,
      "outputs": []
    },
    {
      "cell_type": "code",
      "metadata": {
        "id": "hgezjUH3flxa",
        "colab_type": "code",
        "outputId": "fa9db84f-4997-4323-a27b-c5cfb0fac2a3",
        "colab": {
          "base_uri": "https://localhost:8080/",
          "height": 170
        }
      },
      "source": [
        "mp4_filename = '../volume-trunc-test-v3.mp4'\n",
        "# video_clip = moviepy.editor.VideoClip(render_frame, duration=duration)\n",
        "video_clip = moviepy.editor.VideoFileClip('/content/sound-truncation-volume.mp4')\n",
        "audio_clip_i = moviepy.editor.AudioFileClip('/content/stylegan2/pleasureisallmine_01-stereo.wav')\n",
        "video_clip = video_clip.set_audio(audio_clip_i)\n",
        "video_clip.write_videofile(mp4_filename, fps=fps, codec='libx264', audio_codec='aac', bitrate='8M')"
      ],
      "execution_count": 0,
      "outputs": [
        {
          "output_type": "stream",
          "text": [
            "[MoviePy] >>>> Building video ../volume-trunc-test-v3.mp4\n",
            "[MoviePy] Writing audio in volume-trunc-test-v3TEMP_MPY_wvf_snd.mp4\n"
          ],
          "name": "stdout"
        },
        {
          "output_type": "stream",
          "text": [
            "100%|██████████| 128/128 [00:00<00:00, 701.72it/s]"
          ],
          "name": "stderr"
        },
        {
          "output_type": "stream",
          "text": [
            "[MoviePy] Done.\n",
            "[MoviePy] Writing video ../volume-trunc-test-v3.mp4\n"
          ],
          "name": "stdout"
        },
        {
          "output_type": "stream",
          "text": [
            "\n",
            "100%|██████████| 347/347 [00:13<00:00, 25.16it/s]\n"
          ],
          "name": "stderr"
        },
        {
          "output_type": "stream",
          "text": [
            "[MoviePy] Done.\n",
            "[MoviePy] >>>> Video ready: ../volume-trunc-test-v3.mp4 \n",
            "\n"
          ],
          "name": "stdout"
        }
      ]
    },
    {
      "cell_type": "markdown",
      "metadata": {
        "id": "N_78NFCdqL68",
        "colab_type": "text"
      },
      "source": [
        "## Using feature vectors\n",
        "\n",
        "Let’s look at an example using a feature vector. In this case we’ll just use the straight audio signal.\n",
        "\n",
        "Upload your feature vector to Colab and then reference it’s location with a variable."
      ]
    },
    {
      "cell_type": "code",
      "metadata": {
        "id": "Kl5w7TaLxldW",
        "colab_type": "code",
        "colab": {
          "base_uri": "https://localhost:8080/",
          "height": 51
        },
        "outputId": "8328616c-95ef-4a20-cb35-7ba5c9e7baf6"
      },
      "source": [
        "network_pkl = \"/content/ffhq.pkl\"\n",
        "_G, _D, Gs = pretrained_networks.load_networks(network_pkl)\n",
        "\n",
        "Gs_kwargs = dnnlib.EasyDict()\n",
        "Gs_kwargs.output_transform = dict(func=tflib.convert_images_to_uint8, nchw_to_nhwc=True)\n",
        "Gs_kwargs.randomize_noise = False\n",
        "Gs_syn_kwargs = dnnlib.EasyDict()\n",
        "Gs_syn_kwargs.output_transform = dict(func=tflib.convert_images_to_uint8, nchw_to_nhwc=True)\n",
        "Gs_syn_kwargs.randomize_noise = False\n",
        "Gs_syn_kwargs.minibatch_size = 4\n",
        "noise_vars = [var for name, var in Gs.components.synthesis.vars.items() if name.startswith('noise')]\n",
        "w_avg = Gs.get_var('dlatent_avg')\n",
        "\n",
        "def generate_mov(seed, truncation, direction_vec, scale, n_frames, out_name = 'out', noise_spec = None, loop=True):\n",
        "  \"\"\"Generates a mov moving back and forth along the chosen direction vector\"\"\"\n",
        "  # Example of reading a generated set of images, and storing as MP4.\n",
        "  %mkdir out\n",
        "  movieName = f'out/{out_name}.mp4'\n",
        "  offset = -10\n",
        "  step = 20 / n_frames\n",
        "  imgs = []\n",
        "  for i in range(n_frames):\n",
        "    print(f'{i} / {n_frames}')\n",
        "    \n",
        "    \n",
        "    batch_size = 1\n",
        "    all_seeds = [seed] * batch_size\n",
        "    all_z = np.stack([np.random.RandomState(seed).randn(*Gs.input_shape[1:]) for seed in all_seeds]) # [minibatch, component]\n",
        "    all_w = Gs.components.mapping.run(all_z, None) # [minibatch, layer, component]\n",
        "    if truncation != 1:\n",
        "        w_avg = Gs.get_var('dlatent_avg')\n",
        "        all_w = w_avg + (all_w - w_avg) * truncation # [minibatch, layer, component]\n",
        "    all_w += direction_vec * offset * scale\n",
        "    all_images = Gs.components.synthesis.run(all_w, **Gs_syn_kwargs)\n",
        "    #save image and display\n",
        "    final_im = PIL.Image.fromarray(np.median(all_images, axis=0).astype(np.uint8))\n",
        "    imgs.append(final_im)\n",
        "    #increase offset\n",
        "    offset += step\n",
        "  if loop:\n",
        "    imgs += imgs[::-1]\n",
        "  with imageio.get_writer(movieName, mode='I') as writer:\n",
        "    for image in log_progress(list(imgs), name = \"Creating animation\"):\n",
        "        writer.append_data(np.array(image))"
      ],
      "execution_count": 18,
      "outputs": [
        {
          "output_type": "stream",
          "text": [
            "Setting up TensorFlow plugin \"fused_bias_act.cu\": Preprocessing... Compiling... Loading... Done.\n",
            "Setting up TensorFlow plugin \"upfirdn_2d.cu\": Preprocessing... Compiling... Loading... Done.\n"
          ],
          "name": "stdout"
        }
      ]
    },
    {
      "cell_type": "code",
      "metadata": {
        "id": "PA40ehfqy2S2",
        "colab_type": "code",
        "colab": {
          "base_uri": "https://localhost:8080/",
          "height": 1000
        },
        "outputId": "1779527c-723c-4748-d6f2-72aac913965e"
      },
      "source": [
        "seed = 10 # starting seed (will appear at 0.5)\n",
        "truncation = 0.7\n",
        "feature = '/content/profile-c2.npy'\n",
        "feature_range = 2 # feature_range maps the range of change in features \n",
        "scale = 1 # scale multiples the strength of the feature (1 is prob fine)\n",
        "\n",
        "#-------------------\n",
        "\n",
        "Gs_kwargs = dnnlib.EasyDict()\n",
        "Gs_kwargs.output_transform = dict(func=tflib.convert_images_to_uint8, nchw_to_nhwc=True)\n",
        "Gs_kwargs.randomize_noise = False\n",
        "if truncation is not None:\n",
        "  Gs_kwargs.truncation_psi = truncation\n",
        "tflib.set_vars({var: rnd.randn(*var.shape.as_list()) for var in noise_vars}) # [height, width]\n",
        "w_avg = Gs.get_var('dlatent_avg')\n",
        "\n",
        "# get starting z and w\n",
        "rnd = np.random.RandomState(seed)\n",
        "z = rnd.randn(1, *Gs.input_shape[1:])\n",
        "w = Gs.components.mapping.run(z, None)\n",
        "\n",
        "# make dir\n",
        "feature_name=os.path.basename(feature)[:-4] \n",
        "dir = '%s_%s_range%02d_seed%05d'%(track_name,feature_name,feature_range,seed)\n",
        "os.system('mkdir %s'%dir)\n",
        "\n",
        "# setup\n",
        "feature_vec = np.load(feature)\n",
        "min_range = -feature_range\n",
        "max_range = feature_range\n",
        "offset = min_range #start value\n",
        "\n",
        "#generate frames\n",
        "for f in range(frames):\n",
        "  print('Rendering frame %d/%d ...' % (f,frames))\n",
        "\n",
        "  if truncation != 1:\n",
        "    w = w_avg + (w - w_avg) * truncation # [minibatch, layer, component]\n",
        "  \n",
        "  w += feature_vec * offset * scale\n",
        "\n",
        "  #save image and display\n",
        "  image = Gs.components.synthesis.run(w, **Gs_syn_kwargs)\n",
        "  PIL.Image.fromarray(image[0],'RGB').save('%s/frame%05d.png' % (dir,f))\n",
        "  \n",
        "  #increase offset\n",
        "  offset = lerp( min_range,max_range,audio[track_name][f] )\n",
        "\n",
        "  "
      ],
      "execution_count": 41,
      "outputs": [
        {
          "output_type": "stream",
          "text": [
            "Rendering frame 0/346 ...\n",
            "Rendering frame 1/346 ...\n",
            "Rendering frame 2/346 ...\n",
            "Rendering frame 3/346 ...\n",
            "Rendering frame 4/346 ...\n",
            "Rendering frame 5/346 ...\n",
            "Rendering frame 6/346 ...\n",
            "Rendering frame 7/346 ...\n",
            "Rendering frame 8/346 ...\n",
            "Rendering frame 9/346 ...\n",
            "Rendering frame 10/346 ...\n",
            "Rendering frame 11/346 ...\n",
            "Rendering frame 12/346 ...\n",
            "Rendering frame 13/346 ...\n",
            "Rendering frame 14/346 ...\n",
            "Rendering frame 15/346 ...\n",
            "Rendering frame 16/346 ...\n",
            "Rendering frame 17/346 ...\n",
            "Rendering frame 18/346 ...\n",
            "Rendering frame 19/346 ...\n",
            "Rendering frame 20/346 ...\n",
            "Rendering frame 21/346 ...\n",
            "Rendering frame 22/346 ...\n",
            "Rendering frame 23/346 ...\n",
            "Rendering frame 24/346 ...\n",
            "Rendering frame 25/346 ...\n",
            "Rendering frame 26/346 ...\n",
            "Rendering frame 27/346 ...\n",
            "Rendering frame 28/346 ...\n",
            "Rendering frame 29/346 ...\n",
            "Rendering frame 30/346 ...\n",
            "Rendering frame 31/346 ...\n",
            "Rendering frame 32/346 ...\n",
            "Rendering frame 33/346 ...\n",
            "Rendering frame 34/346 ...\n",
            "Rendering frame 35/346 ...\n",
            "Rendering frame 36/346 ...\n",
            "Rendering frame 37/346 ...\n",
            "Rendering frame 38/346 ...\n",
            "Rendering frame 39/346 ...\n",
            "Rendering frame 40/346 ...\n",
            "Rendering frame 41/346 ...\n",
            "Rendering frame 42/346 ...\n",
            "Rendering frame 43/346 ...\n",
            "Rendering frame 44/346 ...\n",
            "Rendering frame 45/346 ...\n",
            "Rendering frame 46/346 ...\n",
            "Rendering frame 47/346 ...\n",
            "Rendering frame 48/346 ...\n",
            "Rendering frame 49/346 ...\n",
            "Rendering frame 50/346 ...\n",
            "Rendering frame 51/346 ...\n",
            "Rendering frame 52/346 ...\n",
            "Rendering frame 53/346 ...\n",
            "Rendering frame 54/346 ...\n",
            "Rendering frame 55/346 ...\n",
            "Rendering frame 56/346 ...\n",
            "Rendering frame 57/346 ...\n",
            "Rendering frame 58/346 ...\n",
            "Rendering frame 59/346 ...\n",
            "Rendering frame 60/346 ...\n",
            "Rendering frame 61/346 ...\n",
            "Rendering frame 62/346 ...\n",
            "Rendering frame 63/346 ...\n",
            "Rendering frame 64/346 ...\n",
            "Rendering frame 65/346 ...\n",
            "Rendering frame 66/346 ...\n",
            "Rendering frame 67/346 ...\n",
            "Rendering frame 68/346 ...\n",
            "Rendering frame 69/346 ...\n",
            "Rendering frame 70/346 ...\n",
            "Rendering frame 71/346 ...\n",
            "Rendering frame 72/346 ...\n",
            "Rendering frame 73/346 ...\n",
            "Rendering frame 74/346 ...\n",
            "Rendering frame 75/346 ...\n",
            "Rendering frame 76/346 ...\n",
            "Rendering frame 77/346 ...\n",
            "Rendering frame 78/346 ...\n",
            "Rendering frame 79/346 ...\n",
            "Rendering frame 80/346 ...\n",
            "Rendering frame 81/346 ...\n",
            "Rendering frame 82/346 ...\n",
            "Rendering frame 83/346 ...\n",
            "Rendering frame 84/346 ...\n",
            "Rendering frame 85/346 ...\n",
            "Rendering frame 86/346 ...\n",
            "Rendering frame 87/346 ...\n",
            "Rendering frame 88/346 ...\n",
            "Rendering frame 89/346 ...\n",
            "Rendering frame 90/346 ...\n",
            "Rendering frame 91/346 ...\n",
            "Rendering frame 92/346 ...\n",
            "Rendering frame 93/346 ...\n",
            "Rendering frame 94/346 ...\n",
            "Rendering frame 95/346 ...\n",
            "Rendering frame 96/346 ...\n",
            "Rendering frame 97/346 ...\n",
            "Rendering frame 98/346 ...\n",
            "Rendering frame 99/346 ...\n",
            "Rendering frame 100/346 ...\n",
            "Rendering frame 101/346 ...\n",
            "Rendering frame 102/346 ...\n",
            "Rendering frame 103/346 ...\n",
            "Rendering frame 104/346 ...\n",
            "Rendering frame 105/346 ...\n",
            "Rendering frame 106/346 ...\n",
            "Rendering frame 107/346 ...\n",
            "Rendering frame 108/346 ...\n",
            "Rendering frame 109/346 ...\n",
            "Rendering frame 110/346 ...\n",
            "Rendering frame 111/346 ...\n",
            "Rendering frame 112/346 ...\n",
            "Rendering frame 113/346 ...\n",
            "Rendering frame 114/346 ...\n",
            "Rendering frame 115/346 ...\n",
            "Rendering frame 116/346 ...\n",
            "Rendering frame 117/346 ...\n",
            "Rendering frame 118/346 ...\n",
            "Rendering frame 119/346 ...\n",
            "Rendering frame 120/346 ...\n",
            "Rendering frame 121/346 ...\n",
            "Rendering frame 122/346 ...\n",
            "Rendering frame 123/346 ...\n",
            "Rendering frame 124/346 ...\n",
            "Rendering frame 125/346 ...\n",
            "Rendering frame 126/346 ...\n",
            "Rendering frame 127/346 ...\n",
            "Rendering frame 128/346 ...\n",
            "Rendering frame 129/346 ...\n",
            "Rendering frame 130/346 ...\n",
            "Rendering frame 131/346 ...\n",
            "Rendering frame 132/346 ...\n",
            "Rendering frame 133/346 ...\n",
            "Rendering frame 134/346 ...\n",
            "Rendering frame 135/346 ...\n",
            "Rendering frame 136/346 ...\n",
            "Rendering frame 137/346 ...\n",
            "Rendering frame 138/346 ...\n",
            "Rendering frame 139/346 ...\n",
            "Rendering frame 140/346 ...\n",
            "Rendering frame 141/346 ...\n",
            "Rendering frame 142/346 ...\n",
            "Rendering frame 143/346 ...\n",
            "Rendering frame 144/346 ...\n",
            "Rendering frame 145/346 ...\n",
            "Rendering frame 146/346 ...\n",
            "Rendering frame 147/346 ...\n",
            "Rendering frame 148/346 ...\n",
            "Rendering frame 149/346 ...\n",
            "Rendering frame 150/346 ...\n",
            "Rendering frame 151/346 ...\n",
            "Rendering frame 152/346 ...\n",
            "Rendering frame 153/346 ...\n",
            "Rendering frame 154/346 ...\n",
            "Rendering frame 155/346 ...\n",
            "Rendering frame 156/346 ...\n",
            "Rendering frame 157/346 ...\n",
            "Rendering frame 158/346 ...\n",
            "Rendering frame 159/346 ...\n",
            "Rendering frame 160/346 ...\n",
            "Rendering frame 161/346 ...\n",
            "Rendering frame 162/346 ...\n",
            "Rendering frame 163/346 ...\n",
            "Rendering frame 164/346 ...\n",
            "Rendering frame 165/346 ...\n",
            "Rendering frame 166/346 ...\n",
            "Rendering frame 167/346 ...\n",
            "Rendering frame 168/346 ...\n",
            "Rendering frame 169/346 ...\n",
            "Rendering frame 170/346 ...\n",
            "Rendering frame 171/346 ...\n",
            "Rendering frame 172/346 ...\n",
            "Rendering frame 173/346 ...\n",
            "Rendering frame 174/346 ...\n",
            "Rendering frame 175/346 ...\n",
            "Rendering frame 176/346 ...\n",
            "Rendering frame 177/346 ...\n",
            "Rendering frame 178/346 ...\n",
            "Rendering frame 179/346 ...\n",
            "Rendering frame 180/346 ...\n",
            "Rendering frame 181/346 ...\n",
            "Rendering frame 182/346 ...\n",
            "Rendering frame 183/346 ...\n",
            "Rendering frame 184/346 ...\n",
            "Rendering frame 185/346 ...\n",
            "Rendering frame 186/346 ...\n",
            "Rendering frame 187/346 ...\n",
            "Rendering frame 188/346 ...\n",
            "Rendering frame 189/346 ...\n",
            "Rendering frame 190/346 ...\n",
            "Rendering frame 191/346 ...\n",
            "Rendering frame 192/346 ...\n",
            "Rendering frame 193/346 ...\n",
            "Rendering frame 194/346 ...\n",
            "Rendering frame 195/346 ...\n",
            "Rendering frame 196/346 ...\n",
            "Rendering frame 197/346 ...\n",
            "Rendering frame 198/346 ...\n",
            "Rendering frame 199/346 ...\n",
            "Rendering frame 200/346 ...\n",
            "Rendering frame 201/346 ...\n",
            "Rendering frame 202/346 ...\n",
            "Rendering frame 203/346 ...\n",
            "Rendering frame 204/346 ...\n",
            "Rendering frame 205/346 ...\n",
            "Rendering frame 206/346 ...\n",
            "Rendering frame 207/346 ...\n",
            "Rendering frame 208/346 ...\n",
            "Rendering frame 209/346 ...\n",
            "Rendering frame 210/346 ...\n",
            "Rendering frame 211/346 ...\n",
            "Rendering frame 212/346 ...\n",
            "Rendering frame 213/346 ...\n",
            "Rendering frame 214/346 ...\n",
            "Rendering frame 215/346 ...\n",
            "Rendering frame 216/346 ...\n",
            "Rendering frame 217/346 ...\n",
            "Rendering frame 218/346 ...\n",
            "Rendering frame 219/346 ...\n",
            "Rendering frame 220/346 ...\n",
            "Rendering frame 221/346 ...\n",
            "Rendering frame 222/346 ...\n",
            "Rendering frame 223/346 ...\n",
            "Rendering frame 224/346 ...\n",
            "Rendering frame 225/346 ...\n",
            "Rendering frame 226/346 ...\n",
            "Rendering frame 227/346 ...\n",
            "Rendering frame 228/346 ...\n",
            "Rendering frame 229/346 ...\n",
            "Rendering frame 230/346 ...\n",
            "Rendering frame 231/346 ...\n",
            "Rendering frame 232/346 ...\n",
            "Rendering frame 233/346 ...\n",
            "Rendering frame 234/346 ...\n",
            "Rendering frame 235/346 ...\n",
            "Rendering frame 236/346 ...\n",
            "Rendering frame 237/346 ...\n",
            "Rendering frame 238/346 ...\n",
            "Rendering frame 239/346 ...\n",
            "Rendering frame 240/346 ...\n",
            "Rendering frame 241/346 ...\n",
            "Rendering frame 242/346 ...\n",
            "Rendering frame 243/346 ...\n",
            "Rendering frame 244/346 ...\n",
            "Rendering frame 245/346 ...\n",
            "Rendering frame 246/346 ...\n",
            "Rendering frame 247/346 ...\n",
            "Rendering frame 248/346 ...\n",
            "Rendering frame 249/346 ...\n",
            "Rendering frame 250/346 ...\n",
            "Rendering frame 251/346 ...\n",
            "Rendering frame 252/346 ...\n",
            "Rendering frame 253/346 ...\n",
            "Rendering frame 254/346 ...\n",
            "Rendering frame 255/346 ...\n",
            "Rendering frame 256/346 ...\n",
            "Rendering frame 257/346 ...\n",
            "Rendering frame 258/346 ...\n",
            "Rendering frame 259/346 ...\n",
            "Rendering frame 260/346 ...\n",
            "Rendering frame 261/346 ...\n",
            "Rendering frame 262/346 ...\n",
            "Rendering frame 263/346 ...\n",
            "Rendering frame 264/346 ...\n",
            "Rendering frame 265/346 ...\n",
            "Rendering frame 266/346 ...\n",
            "Rendering frame 267/346 ...\n",
            "Rendering frame 268/346 ...\n",
            "Rendering frame 269/346 ...\n",
            "Rendering frame 270/346 ...\n",
            "Rendering frame 271/346 ...\n",
            "Rendering frame 272/346 ...\n",
            "Rendering frame 273/346 ...\n",
            "Rendering frame 274/346 ...\n",
            "Rendering frame 275/346 ...\n",
            "Rendering frame 276/346 ...\n",
            "Rendering frame 277/346 ...\n",
            "Rendering frame 278/346 ...\n",
            "Rendering frame 279/346 ...\n",
            "Rendering frame 280/346 ...\n",
            "Rendering frame 281/346 ...\n",
            "Rendering frame 282/346 ...\n",
            "Rendering frame 283/346 ...\n",
            "Rendering frame 284/346 ...\n",
            "Rendering frame 285/346 ...\n",
            "Rendering frame 286/346 ...\n",
            "Rendering frame 287/346 ...\n",
            "Rendering frame 288/346 ...\n",
            "Rendering frame 289/346 ...\n",
            "Rendering frame 290/346 ...\n",
            "Rendering frame 291/346 ...\n",
            "Rendering frame 292/346 ...\n",
            "Rendering frame 293/346 ...\n",
            "Rendering frame 294/346 ...\n",
            "Rendering frame 295/346 ...\n",
            "Rendering frame 296/346 ...\n",
            "Rendering frame 297/346 ...\n",
            "Rendering frame 298/346 ...\n",
            "Rendering frame 299/346 ...\n",
            "Rendering frame 300/346 ...\n",
            "Rendering frame 301/346 ...\n",
            "Rendering frame 302/346 ...\n",
            "Rendering frame 303/346 ...\n",
            "Rendering frame 304/346 ...\n",
            "Rendering frame 305/346 ...\n",
            "Rendering frame 306/346 ...\n",
            "Rendering frame 307/346 ...\n",
            "Rendering frame 308/346 ...\n",
            "Rendering frame 309/346 ...\n",
            "Rendering frame 310/346 ...\n",
            "Rendering frame 311/346 ...\n",
            "Rendering frame 312/346 ...\n",
            "Rendering frame 313/346 ...\n",
            "Rendering frame 314/346 ...\n",
            "Rendering frame 315/346 ...\n",
            "Rendering frame 316/346 ...\n",
            "Rendering frame 317/346 ...\n",
            "Rendering frame 318/346 ...\n",
            "Rendering frame 319/346 ...\n",
            "Rendering frame 320/346 ...\n",
            "Rendering frame 321/346 ...\n",
            "Rendering frame 322/346 ...\n",
            "Rendering frame 323/346 ...\n",
            "Rendering frame 324/346 ...\n",
            "Rendering frame 325/346 ...\n",
            "Rendering frame 326/346 ...\n",
            "Rendering frame 327/346 ...\n",
            "Rendering frame 328/346 ...\n",
            "Rendering frame 329/346 ...\n",
            "Rendering frame 330/346 ...\n",
            "Rendering frame 331/346 ...\n",
            "Rendering frame 332/346 ...\n",
            "Rendering frame 333/346 ...\n",
            "Rendering frame 334/346 ...\n",
            "Rendering frame 335/346 ...\n",
            "Rendering frame 336/346 ...\n",
            "Rendering frame 337/346 ...\n",
            "Rendering frame 338/346 ...\n",
            "Rendering frame 339/346 ...\n",
            "Rendering frame 340/346 ...\n",
            "Rendering frame 341/346 ...\n",
            "Rendering frame 342/346 ...\n",
            "Rendering frame 343/346 ...\n",
            "Rendering frame 344/346 ...\n",
            "Rendering frame 345/346 ...\n"
          ],
          "name": "stdout"
        }
      ]
    },
    {
      "cell_type": "code",
      "metadata": {
        "id": "Hbk-mwtQ2oWj",
        "colab_type": "code",
        "colab": {
          "base_uri": "https://localhost:8080/",
          "height": 1000
        },
        "outputId": "8a11180f-699a-4cde-b4b1-e6cea514cbf4"
      },
      "source": [
        "!ffmpeg -r 60 -i /content/stylegan2/pleasureisallmine_01-stereo_profile-c2_range02_seed00010/frame%05d.png -vcodec libx264 -pix_fmt yuv420p /content/sound-feature-volume-range2.mp4"
      ],
      "execution_count": 42,
      "outputs": [
        {
          "output_type": "stream",
          "text": [
            "ffmpeg version 3.4.6-0ubuntu0.18.04.1 Copyright (c) 2000-2019 the FFmpeg developers\n",
            "  built with gcc 7 (Ubuntu 7.3.0-16ubuntu3)\n",
            "  configuration: --prefix=/usr --extra-version=0ubuntu0.18.04.1 --toolchain=hardened --libdir=/usr/lib/x86_64-linux-gnu --incdir=/usr/include/x86_64-linux-gnu --enable-gpl --disable-stripping --enable-avresample --enable-avisynth --enable-gnutls --enable-ladspa --enable-libass --enable-libbluray --enable-libbs2b --enable-libcaca --enable-libcdio --enable-libflite --enable-libfontconfig --enable-libfreetype --enable-libfribidi --enable-libgme --enable-libgsm --enable-libmp3lame --enable-libmysofa --enable-libopenjpeg --enable-libopenmpt --enable-libopus --enable-libpulse --enable-librubberband --enable-librsvg --enable-libshine --enable-libsnappy --enable-libsoxr --enable-libspeex --enable-libssh --enable-libtheora --enable-libtwolame --enable-libvorbis --enable-libvpx --enable-libwavpack --enable-libwebp --enable-libx265 --enable-libxml2 --enable-libxvid --enable-libzmq --enable-libzvbi --enable-omx --enable-openal --enable-opengl --enable-sdl2 --enable-libdc1394 --enable-libdrm --enable-libiec61883 --enable-chromaprint --enable-frei0r --enable-libopencv --enable-libx264 --enable-shared\n",
            "  libavutil      55. 78.100 / 55. 78.100\n",
            "  libavcodec     57.107.100 / 57.107.100\n",
            "  libavformat    57. 83.100 / 57. 83.100\n",
            "  libavdevice    57. 10.100 / 57. 10.100\n",
            "  libavfilter     6.107.100 /  6.107.100\n",
            "  libavresample   3.  7.  0 /  3.  7.  0\n",
            "  libswscale      4.  8.100 /  4.  8.100\n",
            "  libswresample   2.  9.100 /  2.  9.100\n",
            "  libpostproc    54.  7.100 / 54.  7.100\n",
            "Input #0, image2, from '/content/stylegan2/pleasureisallmine_01-stereo_profile-c2_range02_seed00010/frame%05d.png':\n",
            "  Duration: 00:00:13.84, start: 0.000000, bitrate: N/A\n",
            "    Stream #0:0: Video: png, rgb24(pc), 1024x1024, 25 fps, 25 tbr, 25 tbn, 25 tbc\n",
            "Stream mapping:\n",
            "  Stream #0:0 -> #0:0 (png (native) -> h264 (libx264))\n",
            "Press [q] to stop, [?] for help\n",
            "\u001b[1;36m[libx264 @ 0x55bcdd5bfe00] \u001b[0musing cpu capabilities: MMX2 SSE2Fast SSSE3 SSE4.2 AVX FMA3 BMI2 AVX2\n",
            "\u001b[1;36m[libx264 @ 0x55bcdd5bfe00] \u001b[0mprofile High, level 4.0\n",
            "\u001b[1;36m[libx264 @ 0x55bcdd5bfe00] \u001b[0m264 - core 152 r2854 e9a5903 - H.264/MPEG-4 AVC codec - Copyleft 2003-2017 - http://www.videolan.org/x264.html - options: cabac=1 ref=3 deblock=1:0:0 analyse=0x3:0x113 me=hex subme=7 psy=1 psy_rd=1.00:0.00 mixed_ref=1 me_range=16 chroma_me=1 trellis=1 8x8dct=1 cqm=0 deadzone=21,11 fast_pskip=1 chroma_qp_offset=-2 threads=6 lookahead_threads=1 sliced_threads=0 nr=0 decimate=1 interlaced=0 bluray_compat=0 constrained_intra=0 bframes=3 b_pyramid=2 b_adapt=1 b_bias=0 direct=1 weightb=1 open_gop=0 weightp=2 keyint=250 keyint_min=25 scenecut=40 intra_refresh=0 rc_lookahead=40 rc=crf mbtree=1 crf=23.0 qcomp=0.60 qpmin=0 qpmax=69 qpstep=4 ip_ratio=1.40 aq=1:1.00\n",
            "Output #0, mp4, to '/content/sound-feature-volume-range2.mp4':\n",
            "  Metadata:\n",
            "    encoder         : Lavf57.83.100\n",
            "    Stream #0:0: Video: h264 (libx264) (avc1 / 0x31637661), yuv420p, 1024x1024, q=-1--1, 60 fps, 15360 tbn, 60 tbc\n",
            "    Metadata:\n",
            "      encoder         : Lavc57.107.100 libx264\n",
            "    Side data:\n",
            "      cpb: bitrate max/min/avg: 0/0/0 buffer size: 0 vbv_delay: -1\n",
            "\u001b[0;33mPast duration 0.999992 too large\n",
            "    Last message repeated 37 times\n",
            "\u001b[0;33mPast duration 0.999992 too large\n",
            "    Last message repeated 8 times\n",
            "\u001b[0;33mPast duration 0.999992 too large\n",
            "    Last message repeated 7 times\n",
            "\u001b[0;33mPast duration 0.999992 too large\n",
            "    Last message repeated 14 times\n",
            "\u001b[0;33mPast duration 0.999992 too large\n",
            "    Last message repeated 8 times\n",
            "\u001b[0;33mPast duration 0.999992 too large\n",
            "    Last message repeated 9 times\n",
            "\u001b[0;33mPast duration 0.999992 too large\n",
            "    Last message repeated 10 times\n",
            "\u001b[0;33mPast duration 0.999992 too large\n",
            "    Last message repeated 10 times\n",
            "\u001b[0;33mPast duration 0.999992 too large\n",
            "    Last message repeated 9 times\n",
            "\u001b[0;33mPast duration 0.999992 too large\n",
            "    Last message repeated 13 times\n",
            "\u001b[0;33mPast duration 0.999992 too large\n",
            "    Last message repeated 6 times\n",
            "\u001b[0;33mPast duration 0.999992 too large\n",
            "    Last message repeated 10 times\n",
            "\u001b[0;33mPast duration 0.999992 too large\n",
            "    Last message repeated 8 times\n",
            "\u001b[0;33mPast duration 0.999992 too large\n",
            "    Last message repeated 11 times\n",
            "\u001b[0;33mPast duration 0.999992 too large\n",
            "    Last message repeated 12 times\n",
            "\u001b[0;33mPast duration 0.999992 too large\n",
            "    Last message repeated 11 times\n",
            "\u001b[0;33mPast duration 0.999992 too large\n",
            "    Last message repeated 12 times\n",
            "\u001b[0;33mPast duration 0.999992 too large\n",
            "    Last message repeated 10 times\n",
            "\u001b[0;33mPast duration 0.999992 too large\n",
            "    Last message repeated 12 times\n",
            "\u001b[0;33mPast duration 0.999992 too large\n",
            "    Last message repeated 10 times\n",
            "\u001b[0;33mPast duration 0.999992 too large\n",
            "    Last message repeated 9 times\n",
            "\u001b[0;33mPast duration 0.999992 too large\n",
            "    Last message repeated 14 times\n",
            "\u001b[0;33mPast duration 0.999992 too large\n",
            "    Last message repeated 12 times\n",
            "\u001b[0;33mPast duration 0.999992 too large\n",
            "    Last message repeated 11 times\n",
            "\u001b[0;33mPast duration 0.999992 too large\n",
            "    Last message repeated 11 times\n",
            "\u001b[0;33mPast duration 0.999992 too large\n",
            "    Last message repeated 11 times\n",
            "\u001b[0;33mPast duration 0.999992 too large\n",
            "    Last message repeated 13 times\n",
            "\u001b[0;33mPast duration 0.999992 too large\n",
            "    Last message repeated 9 times\n",
            "frame=  347 fps= 20 q=-1.0 Lsize=    2824kB time=00:00:05.73 bitrate=4035.2kbits/s dup=1 drop=0 speed=0.338x    \n",
            "video:2819kB audio:0kB subtitle:0kB other streams:0kB global headers:0kB muxing overhead: 0.164314%\n",
            "\u001b[1;36m[libx264 @ 0x55bcdd5bfe00] \u001b[0mframe I:4     Avg QP:26.45  size: 37478\n",
            "\u001b[1;36m[libx264 @ 0x55bcdd5bfe00] \u001b[0mframe P:117   Avg QP:26.07  size: 13615\n",
            "\u001b[1;36m[libx264 @ 0x55bcdd5bfe00] \u001b[0mframe B:226   Avg QP:28.91  size:  5060\n",
            "\u001b[1;36m[libx264 @ 0x55bcdd5bfe00] \u001b[0mconsecutive B-frames:  9.2%  5.8% 18.2% 66.9%\n",
            "\u001b[1;36m[libx264 @ 0x55bcdd5bfe00] \u001b[0mmb I  I16..4: 11.8% 74.7% 13.4%\n",
            "\u001b[1;36m[libx264 @ 0x55bcdd5bfe00] \u001b[0mmb P  I16..4:  4.5% 12.4%  1.6%  P16..4: 34.6%  6.5%  4.0%  0.0%  0.0%    skip:36.5%\n",
            "\u001b[1;36m[libx264 @ 0x55bcdd5bfe00] \u001b[0mmb B  I16..4:  0.9%  2.0%  0.2%  B16..8: 26.1%  2.5%  0.5%  direct: 3.2%  skip:64.7%  L0:47.0% L1:49.1% BI: 3.9%\n",
            "\u001b[1;36m[libx264 @ 0x55bcdd5bfe00] \u001b[0m8x8 transform intra:67.6% inter:81.3%\n",
            "\u001b[1;36m[libx264 @ 0x55bcdd5bfe00] \u001b[0mcoded y,uvDC,uvAC intra: 51.9% 42.3% 3.2% inter: 13.5% 10.0% 0.0%\n",
            "\u001b[1;36m[libx264 @ 0x55bcdd5bfe00] \u001b[0mi16 v,h,dc,p: 24% 20% 11% 45%\n",
            "\u001b[1;36m[libx264 @ 0x55bcdd5bfe00] \u001b[0mi8 v,h,dc,ddl,ddr,vr,hd,vl,hu: 18%  9% 17%  7% 11% 13%  8% 11%  6%\n",
            "\u001b[1;36m[libx264 @ 0x55bcdd5bfe00] \u001b[0mi4 v,h,dc,ddl,ddr,vr,hd,vl,hu: 23%  9% 11%  7% 17% 13% 10%  8%  4%\n",
            "\u001b[1;36m[libx264 @ 0x55bcdd5bfe00] \u001b[0mi8c dc,h,v,p: 62% 13% 21%  4%\n",
            "\u001b[1;36m[libx264 @ 0x55bcdd5bfe00] \u001b[0mWeighted P-Frames: Y:29.9% UV:7.7%\n",
            "\u001b[1;36m[libx264 @ 0x55bcdd5bfe00] \u001b[0mref P L0: 51.7% 22.0% 14.3%  5.5%  6.5%\n",
            "\u001b[1;36m[libx264 @ 0x55bcdd5bfe00] \u001b[0mref B L0: 66.3% 22.9% 10.8%\n",
            "\u001b[1;36m[libx264 @ 0x55bcdd5bfe00] \u001b[0mref B L1: 89.3% 10.7%\n",
            "\u001b[1;36m[libx264 @ 0x55bcdd5bfe00] \u001b[0mkb/s:3992.80\n"
          ],
          "name": "stdout"
        }
      ]
    },
    {
      "cell_type": "code",
      "metadata": {
        "id": "JnoVg2o0AE3_",
        "colab_type": "code",
        "colab": {
          "base_uri": "https://localhost:8080/",
          "height": 170
        },
        "outputId": "70604c5d-6f71-4e47-b6df-a87ef1b3906d"
      },
      "source": [
        "mp4_filename = '../volume-feature-test-range2.mp4'\n",
        "# video_clip = moviepy.editor.VideoClip(render_frame, duration=duration)\n",
        "video_clip = moviepy.editor.VideoFileClip('/content/sound-feature-volume-range2.mp4')\n",
        "audio_clip_i = moviepy.editor.AudioFileClip('/content/stylegan2/pleasureisallmine_01-stereo.wav')\n",
        "video_clip = video_clip.set_audio(audio_clip_i)\n",
        "video_clip.write_videofile(mp4_filename, fps=fps, codec='libx264', audio_codec='aac', bitrate='8M')"
      ],
      "execution_count": 43,
      "outputs": [
        {
          "output_type": "stream",
          "text": [
            "[MoviePy] >>>> Building video ../volume-feature-test-range2.mp4\n",
            "[MoviePy] Writing audio in volume-feature-test-range2TEMP_MPY_wvf_snd.mp4\n"
          ],
          "name": "stdout"
        },
        {
          "output_type": "stream",
          "text": [
            "100%|██████████| 128/128 [00:00<00:00, 640.23it/s]"
          ],
          "name": "stderr"
        },
        {
          "output_type": "stream",
          "text": [
            "[MoviePy] Done.\n",
            "[MoviePy] Writing video ../volume-feature-test-range2.mp4\n"
          ],
          "name": "stdout"
        },
        {
          "output_type": "stream",
          "text": [
            "\n",
            "100%|██████████| 347/347 [00:15<00:00, 22.54it/s]\n"
          ],
          "name": "stderr"
        },
        {
          "output_type": "stream",
          "text": [
            "[MoviePy] Done.\n",
            "[MoviePy] >>>> Video ready: ../volume-feature-test-range2.mp4 \n",
            "\n"
          ],
          "name": "stdout"
        }
      ]
    },
    {
      "cell_type": "code",
      "metadata": {
        "id": "ZMyuqpcDBqQ3",
        "colab_type": "code",
        "colab": {}
      },
      "source": [
        ""
      ],
      "execution_count": 0,
      "outputs": []
    }
  ]
}